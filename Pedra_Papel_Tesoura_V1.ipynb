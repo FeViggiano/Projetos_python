{
  "nbformat": 4,
  "nbformat_minor": 0,
  "metadata": {
    "colab": {
      "provenance": []
    },
    "kernelspec": {
      "name": "python3",
      "display_name": "Python 3"
    },
    "language_info": {
      "name": "python"
    }
  },
  "cells": [
    {
      "cell_type": "markdown",
      "source": [
        "# **Projeto** \"Pedra, Papel, Tesoura\"\n"
      ],
      "metadata": {
        "id": "BNJZ_t6UtQXc"
      }
    },
    {
      "cell_type": "code",
      "execution_count": 26,
      "metadata": {
        "colab": {
          "base_uri": "https://localhost:8080/"
        },
        "id": "HI83JduntO8r",
        "outputId": "79b588b5-046e-4a4c-d6db-2e5fc0b812d3"
      },
      "outputs": [
        {
          "output_type": "stream",
          "name": "stdout",
          "text": [
            "Bem-vindos ao projeto de pedra, papel, tesoura\n",
            "papel\n",
            "tesoura\n",
            "O jogador 2 jogou tesoura e ganhou da pedra do jogador 1\n"
          ]
        }
      ],
      "source": [
        "print('Bem-vindos ao projeto de pedra, papel, tesoura')\n",
        "\n",
        "# Aqui é direcionado um número aleatório a algum objeto\n",
        "from random import randint\n",
        "jogador1 = randint(1,3)\n",
        "jogador2 = randint(1,3)\n",
        "\n",
        "# pedra = 1\n",
        "# papel = 2\n",
        "# tesoura = 3\n",
        "\n",
        "pedra = 'pedra'\n",
        "papel = 'papel'\n",
        "tesoura = 'tesoura'\n",
        "\n",
        "#contador_wins_j1\n",
        "#contador_wins_j2\n",
        "\n",
        "if jogador1 == 1:\n",
        "  print(f'{pedra}')\n",
        "elif jogador1 == 2:\n",
        "  print(f'{papel}')\n",
        "else:\n",
        "  print(f'{tesoura}')\n",
        "\n",
        "if jogador2 == 1:\n",
        "  print(f'{pedra}')\n",
        "elif jogador2 == 2:\n",
        "  print(f'{papel}')\n",
        "else:\n",
        "  print(f'{tesoura}')\n",
        "\n",
        "\n",
        "#Colocar while aqui\n",
        "if jogador1 == 1 and jogador2 == 2:\n",
        "  print('O jogador 2 jogou papel e ganhou da pedra do jogador 1')\n",
        "elif jogador1 == 2 and jogador2 == 1:\n",
        "  print('O jogador 1 jogou papel e ganhou da pedra do jogador 2')\n",
        "elif jogador1 == 2 and jogador2 == 3:\n",
        "  print('O jogador 2 jogou tesoura e ganhou da pedra do jogador 1')\n",
        "elif jogador1 == 3 and jogador2 == 2:\n",
        "  print('O jogador 1 jogou tesoura e ganhou da pedra do jogador 2')\n",
        "elif jogador1 == 1 and jogador2 == 3:\n",
        "  print('O jogador 1 jogou pedra e ganhou da tesoura do jogador 2')\n",
        "elif jogador1 == 3 and jogador2 == 1:\n",
        "  print('O jogador 2 jogou pedra e ganhou da tesoura do jogador 1')\n",
        "elif jogador1 == jogador2:\n",
        "  print('O jogo deu Empate')\n",
        "\n",
        "# quer jogar de novo?\n",
        "# Contar quantas vezes o jogador 1 ganhou do jogador 2\n",
        "#print(f'O jogador 1 ganhou {} vezes')\n",
        "\n",
        "#print(f'O jogador 2 ganhou {} vezes')\n"
      ]
    }
  ]
}