{
  "nbformat": 4,
  "nbformat_minor": 0,
  "metadata": {
    "colab": {
      "provenance": []
    },
    "kernelspec": {
      "name": "python3",
      "display_name": "Python 3"
    },
    "language_info": {
      "name": "python"
    }
  },
  "cells": [
    {
      "cell_type": "markdown",
      "source": [
        "# **Projeto** \"Pedra, Papel, Tesoura\"\n"
      ],
      "metadata": {
        "id": "BNJZ_t6UtQXc"
      }
    },
    {
      "cell_type": "code",
      "execution_count": 9,
      "metadata": {
        "colab": {
          "base_uri": "https://localhost:8080/"
        },
        "outputId": "c117031e-41b5-43f0-b364-827c806c96d9",
        "id": "zqgNaWlplR8W"
      },
      "outputs": [
        {
          "output_type": "stream",
          "name": "stdout",
          "text": [
            "Bem-vindos ao projeto de pedra, papel, tesoura\n",
            "Tesoura\n",
            "Pedra\n",
            "\n",
            "\n",
            "O jogador 2 jogou pedra e ganhou da tesoura do jogador 1\n",
            "Deseja continuar o jogo? (S/N) s\n",
            "Tesoura\n",
            "Tesoura\n",
            "\n",
            "\n",
            "O jogo deu Empate\n",
            "Deseja continuar o jogo? (S/N) s\n",
            "Tesoura\n",
            "Tesoura\n",
            "\n",
            "\n",
            "O jogo deu Empate\n",
            "Deseja continuar o jogo? (S/N) s\n",
            "Pedra\n",
            "Pedra\n",
            "\n",
            "\n",
            "O jogo deu Empate\n",
            "Deseja continuar o jogo? (S/N) s\n",
            "Papel\n",
            "Tesoura\n",
            "\n",
            "\n",
            "O jogador 2 jogou tesoura e ganhou da pedra do jogador 1\n",
            "Deseja continuar o jogo? (S/N) n\n",
            "\n",
            "O jogador 1 ganhou 0 vezes\n",
            "O jogador 2 ganhou 2 vezes\n",
            "O jogo empatou 0 vezes\n"
          ]
        }
      ],
      "source": [
        "print('Bem-vindos ao projeto de pedra, papel, tesoura')\n",
        "\n",
        "# Aqui é direcionado um número aleatório a algum objeto\n",
        "from random import randint\n",
        "\n",
        "# Aqui \n",
        "from  time import sleep \n",
        "\n",
        "# As variáveis do projeto estão nessa parte\n",
        "pedra = 'Pedra'\n",
        "papel = 'Papel'\n",
        "tesoura = 'Tesoura'\n",
        "\n",
        "# Variáveis de contador de vitória_1, vitória_2 e empate \n",
        "contador_wins_j1 = 0\n",
        "contador_wins_j2 = 0\n",
        "contador_emp = 0\n",
        "\n",
        "# Utilizo uma biblioteca de tempo para deixar o código mais vivo, após 2 segundos da mensagem inicial o jogo acontece\n",
        "for contagem in range(0,3):\n",
        "    sleep(2)\n",
        "\n",
        "# Nessa parte do código que a mágica acontece\n",
        "while True:\n",
        "\n",
        "  jogador1 = randint(1,3)\n",
        "  jogador2 = randint(1,3)\n",
        "\n",
        "  if jogador1 == 1:\n",
        "    print(f'{pedra}')\n",
        "  elif jogador1 == 2:\n",
        "    print(f'{papel}')\n",
        "  else:\n",
        "    print(f'{tesoura}')\n",
        "\n",
        "  if jogador2 == 1:\n",
        "    print(f'{pedra}')\n",
        "  elif jogador2 == 2:\n",
        "    print(f'{papel}')\n",
        "  else:\n",
        "    print(f'{tesoura}')\n",
        "\n",
        "  if jogador1 == 1 and jogador2 == 2:\n",
        "    contador_wins_j2 += 1\n",
        "    print('O jogador 2 jogou papel e ganhou da pedra do jogador 1')\n",
        "\n",
        "  elif jogador1 == 2 and jogador2 == 1:\n",
        "    print('O jogador 1 jogou papel e ganhou da pedra do jogador 2')\n",
        "    contador_wins_j1 += 1\n",
        "\n",
        "  elif jogador1 == 2 and jogador2 == 3:\n",
        "    contador_wins_j2 += 1\n",
        "    print('O jogador 2 jogou tesoura e ganhou da pedra do jogador 1')\n",
        "\n",
        "  elif jogador1 == 3 and jogador2 == 2:\n",
        "    contador_wins_j1 += 1\n",
        "    print('O jogador 1 jogou tesoura e ganhou da pedra do jogador 2')\n",
        "\n",
        "  elif jogador1 == 1 and jogador2 == 3:\n",
        "    contador_wins_j1 += 1\n",
        "    print('O jogador 1 jogou pedra e ganhou da tesoura do jogador 2')\n",
        "\n",
        "  elif jogador1 == 3 and jogador2 == 1:\n",
        "    contador_wins_j2 += 1\n",
        "    print('O jogador 2 jogou pedra e ganhou da tesoura do jogador 1')\n",
        "\n",
        "  elif jogador1 == jogador2:\n",
        "    print('O jogo deu Empate')\n",
        "\n",
        "  # Quer jogar de novo?\n",
        "  final = input(\"Deseja continuar o jogo? (S/N) \")\n",
        "  if final.upper() == \"N\":\n",
        "      break\n",
        "\n",
        "# Contar quantas vezes cada jogador ganhou ou quantos empates tivemos\n",
        "print(f'\\nO jogador 1 ganhou {contador_wins_j1} vezes')\n",
        "\n",
        "print(f'O jogador 2 ganhou {contador_wins_j2} vezes')\n",
        "\n",
        "print(f'O jogo empatou {contador_emp} vezes')"
      ]
    }
  ]
}