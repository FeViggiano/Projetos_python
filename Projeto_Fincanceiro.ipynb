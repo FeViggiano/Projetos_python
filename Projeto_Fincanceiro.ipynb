{
  "nbformat": 4,
  "nbformat_minor": 0,
  "metadata": {
    "colab": {
      "provenance": []
    },
    "kernelspec": {
      "name": "python3",
      "display_name": "Python 3"
    },
    "language_info": {
      "name": "python"
    }
  },
  "cells": [
    {
      "cell_type": "markdown",
      "source": [
        "# *Projeto 1 - Relatório de fechamento de mercado por e-mail.*\n",
        "\n",
        "**Desafio:\n",
        "Construir um e-mail que chegue na caixa de entrada todos os dias com informações de fechamento do Ibovespa e dólar.**\n",
        "\n",
        "*Passo a passo:*\n",
        "\n",
        "Passo 1 - Importar os módulos e bibliotecas.\n",
        "\n",
        "Passo 2 - Pegar dados do Ibovespa e do Dólar no Yahoo Finance.\n",
        "\n",
        "Passo 3 - Manipular os dados para deixá-los nos formatos necessários para fazer as contas.\n",
        "\n",
        "Passo 4 - Calcular o retorno diário, mensal e anual.\n",
        "\n",
        "Passo 5 - Localizar, dentro das tabelas de retornos, os valores de fechamento de mercado que irão pro texto anexado no e-mail.\n",
        "\n",
        "Passo 6 - Fazer os gráficos dos ativos.\n",
        "\n",
        "Passo 7 - Enviar o e-mail"
      ],
      "metadata": {
        "id": "XXhiaotQ8uFI"
      }
    },
    {
      "cell_type": "code",
      "execution_count": null,
      "metadata": {
        "id": "98pqkZSba7QE"
      },
      "outputs": [],
      "source": [
        "import pandas as pd"
      ]
    },
    {
      "cell_type": "code",
      "source": [
        "!pip install python-dotenv"
      ],
      "metadata": {
        "colab": {
          "base_uri": "https://localhost:8080/"
        },
        "id": "E45b86OmbGjB",
        "outputId": "da9ed7d8-4d7f-4a37-b198-7eb3ab3f9b3e"
      },
      "execution_count": null,
      "outputs": [
        {
          "output_type": "stream",
          "name": "stdout",
          "text": [
            "Looking in indexes: https://pypi.org/simple, https://us-python.pkg.dev/colab-wheels/public/simple/\n",
            "Collecting python-dotenv\n",
            "  Downloading python_dotenv-1.0.0-py3-none-any.whl (19 kB)\n",
            "Installing collected packages: python-dotenv\n",
            "Successfully installed python-dotenv-1.0.0\n"
          ]
        }
      ]
    },
    {
      "cell_type": "code",
      "source": [
        "!pip install mplcyberpunk"
      ],
      "metadata": {
        "colab": {
          "base_uri": "https://localhost:8080/"
        },
        "id": "P0OeJQDlbLHB",
        "outputId": "7b89974d-077a-40a8-bf8a-7d445a68e656"
      },
      "execution_count": null,
      "outputs": [
        {
          "output_type": "stream",
          "name": "stdout",
          "text": [
            "Looking in indexes: https://pypi.org/simple, https://us-python.pkg.dev/colab-wheels/public/simple/\n",
            "Collecting mplcyberpunk\n",
            "  Downloading mplcyberpunk-0.6.0-py3-none-any.whl (6.0 kB)\n",
            "Requirement already satisfied: matplotlib in /usr/local/lib/python3.9/dist-packages (from mplcyberpunk) (3.7.1)\n",
            "Requirement already satisfied: fonttools>=4.22.0 in /usr/local/lib/python3.9/dist-packages (from matplotlib->mplcyberpunk) (4.39.3)\n",
            "Requirement already satisfied: pillow>=6.2.0 in /usr/local/lib/python3.9/dist-packages (from matplotlib->mplcyberpunk) (8.4.0)\n",
            "Requirement already satisfied: python-dateutil>=2.7 in /usr/local/lib/python3.9/dist-packages (from matplotlib->mplcyberpunk) (2.8.2)\n",
            "Requirement already satisfied: importlib-resources>=3.2.0 in /usr/local/lib/python3.9/dist-packages (from matplotlib->mplcyberpunk) (5.12.0)\n",
            "Requirement already satisfied: contourpy>=1.0.1 in /usr/local/lib/python3.9/dist-packages (from matplotlib->mplcyberpunk) (1.0.7)\n",
            "Requirement already satisfied: cycler>=0.10 in /usr/local/lib/python3.9/dist-packages (from matplotlib->mplcyberpunk) (0.11.0)\n",
            "Requirement already satisfied: packaging>=20.0 in /usr/local/lib/python3.9/dist-packages (from matplotlib->mplcyberpunk) (23.0)\n",
            "Requirement already satisfied: pyparsing>=2.3.1 in /usr/local/lib/python3.9/dist-packages (from matplotlib->mplcyberpunk) (3.0.9)\n",
            "Requirement already satisfied: kiwisolver>=1.0.1 in /usr/local/lib/python3.9/dist-packages (from matplotlib->mplcyberpunk) (1.4.4)\n",
            "Requirement already satisfied: numpy>=1.20 in /usr/local/lib/python3.9/dist-packages (from matplotlib->mplcyberpunk) (1.22.4)\n",
            "Requirement already satisfied: zipp>=3.1.0 in /usr/local/lib/python3.9/dist-packages (from importlib-resources>=3.2.0->matplotlib->mplcyberpunk) (3.15.0)\n",
            "Requirement already satisfied: six>=1.5 in /usr/local/lib/python3.9/dist-packages (from python-dateutil>=2.7->matplotlib->mplcyberpunk) (1.16.0)\n",
            "Installing collected packages: mplcyberpunk\n",
            "Successfully installed mplcyberpunk-0.6.0\n"
          ]
        }
      ]
    },
    {
      "cell_type": "code",
      "source": [
        "!pip install yfinance==0.1.74"
      ],
      "metadata": {
        "colab": {
          "base_uri": "https://localhost:8080/"
        },
        "id": "lZ8GtoUUbPp1",
        "outputId": "fc0464e9-44c6-44b9-a9de-6d795c92ecce"
      },
      "execution_count": null,
      "outputs": [
        {
          "output_type": "stream",
          "name": "stdout",
          "text": [
            "Looking in indexes: https://pypi.org/simple, https://us-python.pkg.dev/colab-wheels/public/simple/\n",
            "Collecting yfinance==0.1.74\n",
            "  Downloading yfinance-0.1.74-py2.py3-none-any.whl (27 kB)\n",
            "Requirement already satisfied: numpy>=1.15 in /usr/local/lib/python3.9/dist-packages (from yfinance==0.1.74) (1.22.4)\n",
            "Requirement already satisfied: multitasking>=0.0.7 in /usr/local/lib/python3.9/dist-packages (from yfinance==0.1.74) (0.0.11)\n",
            "Requirement already satisfied: lxml>=4.5.1 in /usr/local/lib/python3.9/dist-packages (from yfinance==0.1.74) (4.9.2)\n",
            "Requirement already satisfied: pandas>=0.24.0 in /usr/local/lib/python3.9/dist-packages (from yfinance==0.1.74) (1.4.4)\n",
            "Requirement already satisfied: requests>=2.26 in /usr/local/lib/python3.9/dist-packages (from yfinance==0.1.74) (2.27.1)\n",
            "Requirement already satisfied: python-dateutil>=2.8.1 in /usr/local/lib/python3.9/dist-packages (from pandas>=0.24.0->yfinance==0.1.74) (2.8.2)\n",
            "Requirement already satisfied: pytz>=2020.1 in /usr/local/lib/python3.9/dist-packages (from pandas>=0.24.0->yfinance==0.1.74) (2022.7.1)\n",
            "Requirement already satisfied: idna<4,>=2.5 in /usr/local/lib/python3.9/dist-packages (from requests>=2.26->yfinance==0.1.74) (3.4)\n",
            "Requirement already satisfied: urllib3<1.27,>=1.21.1 in /usr/local/lib/python3.9/dist-packages (from requests>=2.26->yfinance==0.1.74) (1.26.15)\n",
            "Requirement already satisfied: charset-normalizer~=2.0.0 in /usr/local/lib/python3.9/dist-packages (from requests>=2.26->yfinance==0.1.74) (2.0.12)\n",
            "Requirement already satisfied: certifi>=2017.4.17 in /usr/local/lib/python3.9/dist-packages (from requests>=2.26->yfinance==0.1.74) (2022.12.7)\n",
            "Requirement already satisfied: six>=1.5 in /usr/local/lib/python3.9/dist-packages (from python-dateutil>=2.8.1->pandas>=0.24.0->yfinance==0.1.74) (1.16.0)\n",
            "Installing collected packages: yfinance\n",
            "  Attempting uninstall: yfinance\n",
            "    Found existing installation: yfinance 0.2.14\n",
            "    Uninstalling yfinance-0.2.14:\n",
            "      Successfully uninstalled yfinance-0.2.14\n",
            "Successfully installed yfinance-0.1.74\n"
          ]
        }
      ]
    },
    {
      "cell_type": "markdown",
      "source": [
        "# ***Passo 1 - Importando os módulos necessários***\n",
        "\n"
      ],
      "metadata": {
        "id": "azAq9uBncjFl"
      }
    },
    {
      "cell_type": "code",
      "source": [
        "import pandas as pd #Principal para analise de dados\n",
        "import datetime # Lida com datas\n",
        "import yfinance as yf # baixar as cotações\n",
        "from matplotlib import pyplot as plt #Realiza os graficos\n",
        "import mplcyberpunk # estilização de grafico\n",
        "import smtplib #Conseguir enviar o email\n",
        "from email.message import EmailMessage #Conseguir enviar o email\n"
      ],
      "metadata": {
        "id": "FCywYFS_bSbA"
      },
      "execution_count": 7,
      "outputs": []
    },
    {
      "cell_type": "markdown",
      "source": [
        "# ***Passo 2 - Pegar dados do Yahoo Finance***"
      ],
      "metadata": {
        "id": "T2ZB0YimcdIi"
      }
    },
    {
      "cell_type": "code",
      "source": [
        "ativos = ['^BVSP', 'BRL=X'] # Código das cotações\n",
        "\n",
        "hoje = datetime.datetime.now()\n",
        "um_ano_atras = hoje - datetime.timedelta(days = 365)\n",
        "\n",
        "dados_mercado = yf.download(ativos, um_ano_atras, hoje)\n",
        "\n",
        "display(dados_mercado)"
      ],
      "metadata": {
        "colab": {
          "base_uri": "https://localhost:8080/",
          "height": 504
        },
        "id": "RpXRO7Awcfo8",
        "outputId": "1cf20d3b-c3f9-4857-bc76-8ef780403977"
      },
      "execution_count": 10,
      "outputs": [
        {
          "output_type": "stream",
          "name": "stdout",
          "text": [
            "[*********************100%***********************]  2 of 2 completed\n"
          ]
        },
        {
          "output_type": "display_data",
          "data": {
            "text/plain": [
              "           Adj Close                  Close                     High  \\\n",
              "               BRL=X          ^BVSP   BRL=X          ^BVSP     BRL=X   \n",
              "Date                                                                   \n",
              "2022-04-04    4.6572  121280.000000  4.6572  121280.000000  4.670100   \n",
              "2022-04-05    4.5938  118885.000000  4.5938  118885.000000  4.669100   \n",
              "2022-04-06    4.6507  118228.000000  4.6507  118228.000000  4.712600   \n",
              "2022-04-07    4.7152  118862.000000  4.7152  118862.000000  4.769900   \n",
              "2022-04-08    4.7521  118322.000000  4.7521  118322.000000  4.791300   \n",
              "...              ...            ...     ...            ...       ...   \n",
              "2023-03-28    5.1971  101185.000000  5.1971  101185.000000  5.197700   \n",
              "2023-03-29    5.1644  101793.000000  5.1644  101793.000000  5.182300   \n",
              "2023-03-30    5.1342  103713.000000  5.1342  103713.000000  5.155928   \n",
              "2023-03-31    5.0927  101882.000000  5.0927  101882.000000  5.103300   \n",
              "2023-04-03    5.0623  101506.179688  5.0623  101506.179688  5.075500   \n",
              "\n",
              "                                Low                   Open                 \\\n",
              "                    ^BVSP     BRL=X          ^BVSP   BRL=X          ^BVSP   \n",
              "Date                                                                        \n",
              "2022-04-04  121570.000000  4.604057  120754.000000  4.6572  121569.000000   \n",
              "2022-04-05  121628.000000  4.575500  118794.000000  4.5938  121279.000000   \n",
              "2022-04-06  118885.000000  4.647900  116791.000000  4.6507  118885.000000   \n",
              "2022-04-07  119247.000000  4.690400  117509.000000  4.7152  118226.000000   \n",
              "2022-04-08  118868.000000  4.707518  117487.000000  4.7521  118861.000000   \n",
              "...                   ...       ...            ...     ...            ...   \n",
              "2023-03-28  101559.000000  5.147900   99488.000000  5.1971   99672.000000   \n",
              "2023-03-29  102213.000000  5.131730  100248.000000  5.1644  101185.000000   \n",
              "2023-03-30  104085.000000  5.077300  101796.000000  5.1342  101796.000000   \n",
              "2023-03-31  104041.000000  5.055200  101476.000000  5.0927  103714.000000   \n",
              "2023-04-03  101915.710938  5.036216  100650.546875  5.0623  101883.210938   \n",
              "\n",
              "           Volume              \n",
              "            BRL=X       ^BVSP  \n",
              "Date                           \n",
              "2022-04-04      0   8812500.0  \n",
              "2022-04-05      0  11788300.0  \n",
              "2022-04-06      0  13410800.0  \n",
              "2022-04-07      0  11520100.0  \n",
              "2022-04-08      0  11225800.0  \n",
              "...           ...         ...  \n",
              "2023-03-28      0  13500100.0  \n",
              "2023-03-29      0  12456100.0  \n",
              "2023-03-30      0  14901600.0  \n",
              "2023-03-31      0  15111200.0  \n",
              "2023-04-03      0         0.0  \n",
              "\n",
              "[261 rows x 12 columns]"
            ],
            "text/html": [
              "\n",
              "  <div id=\"df-ecef1512-f7fe-44d8-82b3-6fcd138a80d5\">\n",
              "    <div class=\"colab-df-container\">\n",
              "      <div>\n",
              "<style scoped>\n",
              "    .dataframe tbody tr th:only-of-type {\n",
              "        vertical-align: middle;\n",
              "    }\n",
              "\n",
              "    .dataframe tbody tr th {\n",
              "        vertical-align: top;\n",
              "    }\n",
              "\n",
              "    .dataframe thead tr th {\n",
              "        text-align: left;\n",
              "    }\n",
              "\n",
              "    .dataframe thead tr:last-of-type th {\n",
              "        text-align: right;\n",
              "    }\n",
              "</style>\n",
              "<table border=\"1\" class=\"dataframe\">\n",
              "  <thead>\n",
              "    <tr>\n",
              "      <th></th>\n",
              "      <th colspan=\"2\" halign=\"left\">Adj Close</th>\n",
              "      <th colspan=\"2\" halign=\"left\">Close</th>\n",
              "      <th colspan=\"2\" halign=\"left\">High</th>\n",
              "      <th colspan=\"2\" halign=\"left\">Low</th>\n",
              "      <th colspan=\"2\" halign=\"left\">Open</th>\n",
              "      <th colspan=\"2\" halign=\"left\">Volume</th>\n",
              "    </tr>\n",
              "    <tr>\n",
              "      <th></th>\n",
              "      <th>BRL=X</th>\n",
              "      <th>^BVSP</th>\n",
              "      <th>BRL=X</th>\n",
              "      <th>^BVSP</th>\n",
              "      <th>BRL=X</th>\n",
              "      <th>^BVSP</th>\n",
              "      <th>BRL=X</th>\n",
              "      <th>^BVSP</th>\n",
              "      <th>BRL=X</th>\n",
              "      <th>^BVSP</th>\n",
              "      <th>BRL=X</th>\n",
              "      <th>^BVSP</th>\n",
              "    </tr>\n",
              "    <tr>\n",
              "      <th>Date</th>\n",
              "      <th></th>\n",
              "      <th></th>\n",
              "      <th></th>\n",
              "      <th></th>\n",
              "      <th></th>\n",
              "      <th></th>\n",
              "      <th></th>\n",
              "      <th></th>\n",
              "      <th></th>\n",
              "      <th></th>\n",
              "      <th></th>\n",
              "      <th></th>\n",
              "    </tr>\n",
              "  </thead>\n",
              "  <tbody>\n",
              "    <tr>\n",
              "      <th>2022-04-04</th>\n",
              "      <td>4.6572</td>\n",
              "      <td>121280.000000</td>\n",
              "      <td>4.6572</td>\n",
              "      <td>121280.000000</td>\n",
              "      <td>4.670100</td>\n",
              "      <td>121570.000000</td>\n",
              "      <td>4.604057</td>\n",
              "      <td>120754.000000</td>\n",
              "      <td>4.6572</td>\n",
              "      <td>121569.000000</td>\n",
              "      <td>0</td>\n",
              "      <td>8812500.0</td>\n",
              "    </tr>\n",
              "    <tr>\n",
              "      <th>2022-04-05</th>\n",
              "      <td>4.5938</td>\n",
              "      <td>118885.000000</td>\n",
              "      <td>4.5938</td>\n",
              "      <td>118885.000000</td>\n",
              "      <td>4.669100</td>\n",
              "      <td>121628.000000</td>\n",
              "      <td>4.575500</td>\n",
              "      <td>118794.000000</td>\n",
              "      <td>4.5938</td>\n",
              "      <td>121279.000000</td>\n",
              "      <td>0</td>\n",
              "      <td>11788300.0</td>\n",
              "    </tr>\n",
              "    <tr>\n",
              "      <th>2022-04-06</th>\n",
              "      <td>4.6507</td>\n",
              "      <td>118228.000000</td>\n",
              "      <td>4.6507</td>\n",
              "      <td>118228.000000</td>\n",
              "      <td>4.712600</td>\n",
              "      <td>118885.000000</td>\n",
              "      <td>4.647900</td>\n",
              "      <td>116791.000000</td>\n",
              "      <td>4.6507</td>\n",
              "      <td>118885.000000</td>\n",
              "      <td>0</td>\n",
              "      <td>13410800.0</td>\n",
              "    </tr>\n",
              "    <tr>\n",
              "      <th>2022-04-07</th>\n",
              "      <td>4.7152</td>\n",
              "      <td>118862.000000</td>\n",
              "      <td>4.7152</td>\n",
              "      <td>118862.000000</td>\n",
              "      <td>4.769900</td>\n",
              "      <td>119247.000000</td>\n",
              "      <td>4.690400</td>\n",
              "      <td>117509.000000</td>\n",
              "      <td>4.7152</td>\n",
              "      <td>118226.000000</td>\n",
              "      <td>0</td>\n",
              "      <td>11520100.0</td>\n",
              "    </tr>\n",
              "    <tr>\n",
              "      <th>2022-04-08</th>\n",
              "      <td>4.7521</td>\n",
              "      <td>118322.000000</td>\n",
              "      <td>4.7521</td>\n",
              "      <td>118322.000000</td>\n",
              "      <td>4.791300</td>\n",
              "      <td>118868.000000</td>\n",
              "      <td>4.707518</td>\n",
              "      <td>117487.000000</td>\n",
              "      <td>4.7521</td>\n",
              "      <td>118861.000000</td>\n",
              "      <td>0</td>\n",
              "      <td>11225800.0</td>\n",
              "    </tr>\n",
              "    <tr>\n",
              "      <th>...</th>\n",
              "      <td>...</td>\n",
              "      <td>...</td>\n",
              "      <td>...</td>\n",
              "      <td>...</td>\n",
              "      <td>...</td>\n",
              "      <td>...</td>\n",
              "      <td>...</td>\n",
              "      <td>...</td>\n",
              "      <td>...</td>\n",
              "      <td>...</td>\n",
              "      <td>...</td>\n",
              "      <td>...</td>\n",
              "    </tr>\n",
              "    <tr>\n",
              "      <th>2023-03-28</th>\n",
              "      <td>5.1971</td>\n",
              "      <td>101185.000000</td>\n",
              "      <td>5.1971</td>\n",
              "      <td>101185.000000</td>\n",
              "      <td>5.197700</td>\n",
              "      <td>101559.000000</td>\n",
              "      <td>5.147900</td>\n",
              "      <td>99488.000000</td>\n",
              "      <td>5.1971</td>\n",
              "      <td>99672.000000</td>\n",
              "      <td>0</td>\n",
              "      <td>13500100.0</td>\n",
              "    </tr>\n",
              "    <tr>\n",
              "      <th>2023-03-29</th>\n",
              "      <td>5.1644</td>\n",
              "      <td>101793.000000</td>\n",
              "      <td>5.1644</td>\n",
              "      <td>101793.000000</td>\n",
              "      <td>5.182300</td>\n",
              "      <td>102213.000000</td>\n",
              "      <td>5.131730</td>\n",
              "      <td>100248.000000</td>\n",
              "      <td>5.1644</td>\n",
              "      <td>101185.000000</td>\n",
              "      <td>0</td>\n",
              "      <td>12456100.0</td>\n",
              "    </tr>\n",
              "    <tr>\n",
              "      <th>2023-03-30</th>\n",
              "      <td>5.1342</td>\n",
              "      <td>103713.000000</td>\n",
              "      <td>5.1342</td>\n",
              "      <td>103713.000000</td>\n",
              "      <td>5.155928</td>\n",
              "      <td>104085.000000</td>\n",
              "      <td>5.077300</td>\n",
              "      <td>101796.000000</td>\n",
              "      <td>5.1342</td>\n",
              "      <td>101796.000000</td>\n",
              "      <td>0</td>\n",
              "      <td>14901600.0</td>\n",
              "    </tr>\n",
              "    <tr>\n",
              "      <th>2023-03-31</th>\n",
              "      <td>5.0927</td>\n",
              "      <td>101882.000000</td>\n",
              "      <td>5.0927</td>\n",
              "      <td>101882.000000</td>\n",
              "      <td>5.103300</td>\n",
              "      <td>104041.000000</td>\n",
              "      <td>5.055200</td>\n",
              "      <td>101476.000000</td>\n",
              "      <td>5.0927</td>\n",
              "      <td>103714.000000</td>\n",
              "      <td>0</td>\n",
              "      <td>15111200.0</td>\n",
              "    </tr>\n",
              "    <tr>\n",
              "      <th>2023-04-03</th>\n",
              "      <td>5.0623</td>\n",
              "      <td>101506.179688</td>\n",
              "      <td>5.0623</td>\n",
              "      <td>101506.179688</td>\n",
              "      <td>5.075500</td>\n",
              "      <td>101915.710938</td>\n",
              "      <td>5.036216</td>\n",
              "      <td>100650.546875</td>\n",
              "      <td>5.0623</td>\n",
              "      <td>101883.210938</td>\n",
              "      <td>0</td>\n",
              "      <td>0.0</td>\n",
              "    </tr>\n",
              "  </tbody>\n",
              "</table>\n",
              "<p>261 rows × 12 columns</p>\n",
              "</div>\n",
              "      <button class=\"colab-df-convert\" onclick=\"convertToInteractive('df-ecef1512-f7fe-44d8-82b3-6fcd138a80d5')\"\n",
              "              title=\"Convert this dataframe to an interactive table.\"\n",
              "              style=\"display:none;\">\n",
              "        \n",
              "  <svg xmlns=\"http://www.w3.org/2000/svg\" height=\"24px\"viewBox=\"0 0 24 24\"\n",
              "       width=\"24px\">\n",
              "    <path d=\"M0 0h24v24H0V0z\" fill=\"none\"/>\n",
              "    <path d=\"M18.56 5.44l.94 2.06.94-2.06 2.06-.94-2.06-.94-.94-2.06-.94 2.06-2.06.94zm-11 1L8.5 8.5l.94-2.06 2.06-.94-2.06-.94L8.5 2.5l-.94 2.06-2.06.94zm10 10l.94 2.06.94-2.06 2.06-.94-2.06-.94-.94-2.06-.94 2.06-2.06.94z\"/><path d=\"M17.41 7.96l-1.37-1.37c-.4-.4-.92-.59-1.43-.59-.52 0-1.04.2-1.43.59L10.3 9.45l-7.72 7.72c-.78.78-.78 2.05 0 2.83L4 21.41c.39.39.9.59 1.41.59.51 0 1.02-.2 1.41-.59l7.78-7.78 2.81-2.81c.8-.78.8-2.07 0-2.86zM5.41 20L4 18.59l7.72-7.72 1.47 1.35L5.41 20z\"/>\n",
              "  </svg>\n",
              "      </button>\n",
              "      \n",
              "  <style>\n",
              "    .colab-df-container {\n",
              "      display:flex;\n",
              "      flex-wrap:wrap;\n",
              "      gap: 12px;\n",
              "    }\n",
              "\n",
              "    .colab-df-convert {\n",
              "      background-color: #E8F0FE;\n",
              "      border: none;\n",
              "      border-radius: 50%;\n",
              "      cursor: pointer;\n",
              "      display: none;\n",
              "      fill: #1967D2;\n",
              "      height: 32px;\n",
              "      padding: 0 0 0 0;\n",
              "      width: 32px;\n",
              "    }\n",
              "\n",
              "    .colab-df-convert:hover {\n",
              "      background-color: #E2EBFA;\n",
              "      box-shadow: 0px 1px 2px rgba(60, 64, 67, 0.3), 0px 1px 3px 1px rgba(60, 64, 67, 0.15);\n",
              "      fill: #174EA6;\n",
              "    }\n",
              "\n",
              "    [theme=dark] .colab-df-convert {\n",
              "      background-color: #3B4455;\n",
              "      fill: #D2E3FC;\n",
              "    }\n",
              "\n",
              "    [theme=dark] .colab-df-convert:hover {\n",
              "      background-color: #434B5C;\n",
              "      box-shadow: 0px 1px 3px 1px rgba(0, 0, 0, 0.15);\n",
              "      filter: drop-shadow(0px 1px 2px rgba(0, 0, 0, 0.3));\n",
              "      fill: #FFFFFF;\n",
              "    }\n",
              "  </style>\n",
              "\n",
              "      <script>\n",
              "        const buttonEl =\n",
              "          document.querySelector('#df-ecef1512-f7fe-44d8-82b3-6fcd138a80d5 button.colab-df-convert');\n",
              "        buttonEl.style.display =\n",
              "          google.colab.kernel.accessAllowed ? 'block' : 'none';\n",
              "\n",
              "        async function convertToInteractive(key) {\n",
              "          const element = document.querySelector('#df-ecef1512-f7fe-44d8-82b3-6fcd138a80d5');\n",
              "          const dataTable =\n",
              "            await google.colab.kernel.invokeFunction('convertToInteractive',\n",
              "                                                     [key], {});\n",
              "          if (!dataTable) return;\n",
              "\n",
              "          const docLinkHtml = 'Like what you see? Visit the ' +\n",
              "            '<a target=\"_blank\" href=https://colab.research.google.com/notebooks/data_table.ipynb>data table notebook</a>'\n",
              "            + ' to learn more about interactive tables.';\n",
              "          element.innerHTML = '';\n",
              "          dataTable['output_type'] = 'display_data';\n",
              "          await google.colab.output.renderOutput(dataTable, element);\n",
              "          const docLink = document.createElement('div');\n",
              "          docLink.innerHTML = docLinkHtml;\n",
              "          element.appendChild(docLink);\n",
              "        }\n",
              "      </script>\n",
              "    </div>\n",
              "  </div>\n",
              "  "
            ]
          },
          "metadata": {}
        }
      ]
    },
    {
      "cell_type": "markdown",
      "source": [
        "# ***Passo 3.1 - Manipulando os Dados***"
      ],
      "metadata": {
        "id": "ITwQVTcZgDFR"
      }
    },
    {
      "cell_type": "code",
      "source": [
        "dados_mercado['Adj Close']['^BVSP']"
      ],
      "metadata": {
        "colab": {
          "base_uri": "https://localhost:8080/"
        },
        "id": "MEv-Pwk7gLJs",
        "outputId": "17df23d2-07ea-4fca-b0f3-b5e82cc097b3"
      },
      "execution_count": 13,
      "outputs": [
        {
          "output_type": "execute_result",
          "data": {
            "text/plain": [
              "Date\n",
              "2022-04-04    121280.000000\n",
              "2022-04-05    118885.000000\n",
              "2022-04-06    118228.000000\n",
              "2022-04-07    118862.000000\n",
              "2022-04-08    118322.000000\n",
              "                  ...      \n",
              "2023-03-28    101185.000000\n",
              "2023-03-29    101793.000000\n",
              "2023-03-30    103713.000000\n",
              "2023-03-31    101882.000000\n",
              "2023-04-03    101506.179688\n",
              "Freq: B, Name: ^BVSP, Length: 261, dtype: float64"
            ]
          },
          "metadata": {},
          "execution_count": 13
        }
      ]
    },
    {
      "cell_type": "code",
      "source": [
        "dados_fechamento = dados_mercado ['Adj Close']\n",
        "dados_fechamento.columns = ['dolar', 'ibovespa']\n",
        "\n",
        "dados_fechamento = dados_fechamento.dropna()\n",
        "\n",
        "dados_fechamento"
      ],
      "metadata": {
        "colab": {
          "base_uri": "https://localhost:8080/",
          "height": 455
        },
        "id": "0L8F4dEhgf3y",
        "outputId": "d0aebaf7-d6a6-4db9-fb7f-3a612b2610da"
      },
      "execution_count": 15,
      "outputs": [
        {
          "output_type": "execute_result",
          "data": {
            "text/plain": [
              "             dolar       ibovespa\n",
              "Date                             \n",
              "2022-04-04  4.6572  121280.000000\n",
              "2022-04-05  4.5938  118885.000000\n",
              "2022-04-06  4.6507  118228.000000\n",
              "2022-04-07  4.7152  118862.000000\n",
              "2022-04-08  4.7521  118322.000000\n",
              "...            ...            ...\n",
              "2023-03-28  5.1971  101185.000000\n",
              "2023-03-29  5.1644  101793.000000\n",
              "2023-03-30  5.1342  103713.000000\n",
              "2023-03-31  5.0927  101882.000000\n",
              "2023-04-03  5.0623  101506.179688\n",
              "\n",
              "[251 rows x 2 columns]"
            ],
            "text/html": [
              "\n",
              "  <div id=\"df-292ff07c-578d-4b23-892a-93c2ee7fc427\">\n",
              "    <div class=\"colab-df-container\">\n",
              "      <div>\n",
              "<style scoped>\n",
              "    .dataframe tbody tr th:only-of-type {\n",
              "        vertical-align: middle;\n",
              "    }\n",
              "\n",
              "    .dataframe tbody tr th {\n",
              "        vertical-align: top;\n",
              "    }\n",
              "\n",
              "    .dataframe thead th {\n",
              "        text-align: right;\n",
              "    }\n",
              "</style>\n",
              "<table border=\"1\" class=\"dataframe\">\n",
              "  <thead>\n",
              "    <tr style=\"text-align: right;\">\n",
              "      <th></th>\n",
              "      <th>dolar</th>\n",
              "      <th>ibovespa</th>\n",
              "    </tr>\n",
              "    <tr>\n",
              "      <th>Date</th>\n",
              "      <th></th>\n",
              "      <th></th>\n",
              "    </tr>\n",
              "  </thead>\n",
              "  <tbody>\n",
              "    <tr>\n",
              "      <th>2022-04-04</th>\n",
              "      <td>4.6572</td>\n",
              "      <td>121280.000000</td>\n",
              "    </tr>\n",
              "    <tr>\n",
              "      <th>2022-04-05</th>\n",
              "      <td>4.5938</td>\n",
              "      <td>118885.000000</td>\n",
              "    </tr>\n",
              "    <tr>\n",
              "      <th>2022-04-06</th>\n",
              "      <td>4.6507</td>\n",
              "      <td>118228.000000</td>\n",
              "    </tr>\n",
              "    <tr>\n",
              "      <th>2022-04-07</th>\n",
              "      <td>4.7152</td>\n",
              "      <td>118862.000000</td>\n",
              "    </tr>\n",
              "    <tr>\n",
              "      <th>2022-04-08</th>\n",
              "      <td>4.7521</td>\n",
              "      <td>118322.000000</td>\n",
              "    </tr>\n",
              "    <tr>\n",
              "      <th>...</th>\n",
              "      <td>...</td>\n",
              "      <td>...</td>\n",
              "    </tr>\n",
              "    <tr>\n",
              "      <th>2023-03-28</th>\n",
              "      <td>5.1971</td>\n",
              "      <td>101185.000000</td>\n",
              "    </tr>\n",
              "    <tr>\n",
              "      <th>2023-03-29</th>\n",
              "      <td>5.1644</td>\n",
              "      <td>101793.000000</td>\n",
              "    </tr>\n",
              "    <tr>\n",
              "      <th>2023-03-30</th>\n",
              "      <td>5.1342</td>\n",
              "      <td>103713.000000</td>\n",
              "    </tr>\n",
              "    <tr>\n",
              "      <th>2023-03-31</th>\n",
              "      <td>5.0927</td>\n",
              "      <td>101882.000000</td>\n",
              "    </tr>\n",
              "    <tr>\n",
              "      <th>2023-04-03</th>\n",
              "      <td>5.0623</td>\n",
              "      <td>101506.179688</td>\n",
              "    </tr>\n",
              "  </tbody>\n",
              "</table>\n",
              "<p>251 rows × 2 columns</p>\n",
              "</div>\n",
              "      <button class=\"colab-df-convert\" onclick=\"convertToInteractive('df-292ff07c-578d-4b23-892a-93c2ee7fc427')\"\n",
              "              title=\"Convert this dataframe to an interactive table.\"\n",
              "              style=\"display:none;\">\n",
              "        \n",
              "  <svg xmlns=\"http://www.w3.org/2000/svg\" height=\"24px\"viewBox=\"0 0 24 24\"\n",
              "       width=\"24px\">\n",
              "    <path d=\"M0 0h24v24H0V0z\" fill=\"none\"/>\n",
              "    <path d=\"M18.56 5.44l.94 2.06.94-2.06 2.06-.94-2.06-.94-.94-2.06-.94 2.06-2.06.94zm-11 1L8.5 8.5l.94-2.06 2.06-.94-2.06-.94L8.5 2.5l-.94 2.06-2.06.94zm10 10l.94 2.06.94-2.06 2.06-.94-2.06-.94-.94-2.06-.94 2.06-2.06.94z\"/><path d=\"M17.41 7.96l-1.37-1.37c-.4-.4-.92-.59-1.43-.59-.52 0-1.04.2-1.43.59L10.3 9.45l-7.72 7.72c-.78.78-.78 2.05 0 2.83L4 21.41c.39.39.9.59 1.41.59.51 0 1.02-.2 1.41-.59l7.78-7.78 2.81-2.81c.8-.78.8-2.07 0-2.86zM5.41 20L4 18.59l7.72-7.72 1.47 1.35L5.41 20z\"/>\n",
              "  </svg>\n",
              "      </button>\n",
              "      \n",
              "  <style>\n",
              "    .colab-df-container {\n",
              "      display:flex;\n",
              "      flex-wrap:wrap;\n",
              "      gap: 12px;\n",
              "    }\n",
              "\n",
              "    .colab-df-convert {\n",
              "      background-color: #E8F0FE;\n",
              "      border: none;\n",
              "      border-radius: 50%;\n",
              "      cursor: pointer;\n",
              "      display: none;\n",
              "      fill: #1967D2;\n",
              "      height: 32px;\n",
              "      padding: 0 0 0 0;\n",
              "      width: 32px;\n",
              "    }\n",
              "\n",
              "    .colab-df-convert:hover {\n",
              "      background-color: #E2EBFA;\n",
              "      box-shadow: 0px 1px 2px rgba(60, 64, 67, 0.3), 0px 1px 3px 1px rgba(60, 64, 67, 0.15);\n",
              "      fill: #174EA6;\n",
              "    }\n",
              "\n",
              "    [theme=dark] .colab-df-convert {\n",
              "      background-color: #3B4455;\n",
              "      fill: #D2E3FC;\n",
              "    }\n",
              "\n",
              "    [theme=dark] .colab-df-convert:hover {\n",
              "      background-color: #434B5C;\n",
              "      box-shadow: 0px 1px 3px 1px rgba(0, 0, 0, 0.15);\n",
              "      filter: drop-shadow(0px 1px 2px rgba(0, 0, 0, 0.3));\n",
              "      fill: #FFFFFF;\n",
              "    }\n",
              "  </style>\n",
              "\n",
              "      <script>\n",
              "        const buttonEl =\n",
              "          document.querySelector('#df-292ff07c-578d-4b23-892a-93c2ee7fc427 button.colab-df-convert');\n",
              "        buttonEl.style.display =\n",
              "          google.colab.kernel.accessAllowed ? 'block' : 'none';\n",
              "\n",
              "        async function convertToInteractive(key) {\n",
              "          const element = document.querySelector('#df-292ff07c-578d-4b23-892a-93c2ee7fc427');\n",
              "          const dataTable =\n",
              "            await google.colab.kernel.invokeFunction('convertToInteractive',\n",
              "                                                     [key], {});\n",
              "          if (!dataTable) return;\n",
              "\n",
              "          const docLinkHtml = 'Like what you see? Visit the ' +\n",
              "            '<a target=\"_blank\" href=https://colab.research.google.com/notebooks/data_table.ipynb>data table notebook</a>'\n",
              "            + ' to learn more about interactive tables.';\n",
              "          element.innerHTML = '';\n",
              "          dataTable['output_type'] = 'display_data';\n",
              "          await google.colab.output.renderOutput(dataTable, element);\n",
              "          const docLink = document.createElement('div');\n",
              "          docLink.innerHTML = docLinkHtml;\n",
              "          element.appendChild(docLink);\n",
              "        }\n",
              "      </script>\n",
              "    </div>\n",
              "  </div>\n",
              "  "
            ]
          },
          "metadata": {},
          "execution_count": 15
        }
      ]
    },
    {
      "cell_type": "markdown",
      "source": [
        "# ***Passo 3.2 - Manipulando os dados***"
      ],
      "metadata": {
        "id": "9wLZBL5ThiBz"
      }
    },
    {
      "cell_type": "code",
      "source": [
        "dados_fechamento_mensal = dados_fechamento.resample('M').last()\n",
        "#Na linha acima é transformado em uma tabela a última cotação de cada mes\n",
        "#Utilizando funções\n",
        "\n",
        "dados_fechamento_anual = dados_fechamento.resample('Y').last()\n",
        "#Na linha acima é transformado em uma tabela a última cotação de cada ano\n",
        "\n",
        "\n",
        "\n",
        "\n",
        "dados_fechamento_anual\n",
        "\n",
        "\n"
      ],
      "metadata": {
        "colab": {
          "base_uri": "https://localhost:8080/",
          "height": 143
        },
        "id": "QZHJy4MqhpAt",
        "outputId": "75fb9664-a9a2-4e83-f830-364577821dd1"
      },
      "execution_count": 18,
      "outputs": [
        {
          "output_type": "execute_result",
          "data": {
            "text/plain": [
              "             dolar       ibovespa\n",
              "Date                             \n",
              "2022-12-31  5.2668  110031.000000\n",
              "2023-12-31  5.0623  101506.179688"
            ],
            "text/html": [
              "\n",
              "  <div id=\"df-14b222e9-baf9-4eb0-bdca-002128f35a31\">\n",
              "    <div class=\"colab-df-container\">\n",
              "      <div>\n",
              "<style scoped>\n",
              "    .dataframe tbody tr th:only-of-type {\n",
              "        vertical-align: middle;\n",
              "    }\n",
              "\n",
              "    .dataframe tbody tr th {\n",
              "        vertical-align: top;\n",
              "    }\n",
              "\n",
              "    .dataframe thead th {\n",
              "        text-align: right;\n",
              "    }\n",
              "</style>\n",
              "<table border=\"1\" class=\"dataframe\">\n",
              "  <thead>\n",
              "    <tr style=\"text-align: right;\">\n",
              "      <th></th>\n",
              "      <th>dolar</th>\n",
              "      <th>ibovespa</th>\n",
              "    </tr>\n",
              "    <tr>\n",
              "      <th>Date</th>\n",
              "      <th></th>\n",
              "      <th></th>\n",
              "    </tr>\n",
              "  </thead>\n",
              "  <tbody>\n",
              "    <tr>\n",
              "      <th>2022-12-31</th>\n",
              "      <td>5.2668</td>\n",
              "      <td>110031.000000</td>\n",
              "    </tr>\n",
              "    <tr>\n",
              "      <th>2023-12-31</th>\n",
              "      <td>5.0623</td>\n",
              "      <td>101506.179688</td>\n",
              "    </tr>\n",
              "  </tbody>\n",
              "</table>\n",
              "</div>\n",
              "      <button class=\"colab-df-convert\" onclick=\"convertToInteractive('df-14b222e9-baf9-4eb0-bdca-002128f35a31')\"\n",
              "              title=\"Convert this dataframe to an interactive table.\"\n",
              "              style=\"display:none;\">\n",
              "        \n",
              "  <svg xmlns=\"http://www.w3.org/2000/svg\" height=\"24px\"viewBox=\"0 0 24 24\"\n",
              "       width=\"24px\">\n",
              "    <path d=\"M0 0h24v24H0V0z\" fill=\"none\"/>\n",
              "    <path d=\"M18.56 5.44l.94 2.06.94-2.06 2.06-.94-2.06-.94-.94-2.06-.94 2.06-2.06.94zm-11 1L8.5 8.5l.94-2.06 2.06-.94-2.06-.94L8.5 2.5l-.94 2.06-2.06.94zm10 10l.94 2.06.94-2.06 2.06-.94-2.06-.94-.94-2.06-.94 2.06-2.06.94z\"/><path d=\"M17.41 7.96l-1.37-1.37c-.4-.4-.92-.59-1.43-.59-.52 0-1.04.2-1.43.59L10.3 9.45l-7.72 7.72c-.78.78-.78 2.05 0 2.83L4 21.41c.39.39.9.59 1.41.59.51 0 1.02-.2 1.41-.59l7.78-7.78 2.81-2.81c.8-.78.8-2.07 0-2.86zM5.41 20L4 18.59l7.72-7.72 1.47 1.35L5.41 20z\"/>\n",
              "  </svg>\n",
              "      </button>\n",
              "      \n",
              "  <style>\n",
              "    .colab-df-container {\n",
              "      display:flex;\n",
              "      flex-wrap:wrap;\n",
              "      gap: 12px;\n",
              "    }\n",
              "\n",
              "    .colab-df-convert {\n",
              "      background-color: #E8F0FE;\n",
              "      border: none;\n",
              "      border-radius: 50%;\n",
              "      cursor: pointer;\n",
              "      display: none;\n",
              "      fill: #1967D2;\n",
              "      height: 32px;\n",
              "      padding: 0 0 0 0;\n",
              "      width: 32px;\n",
              "    }\n",
              "\n",
              "    .colab-df-convert:hover {\n",
              "      background-color: #E2EBFA;\n",
              "      box-shadow: 0px 1px 2px rgba(60, 64, 67, 0.3), 0px 1px 3px 1px rgba(60, 64, 67, 0.15);\n",
              "      fill: #174EA6;\n",
              "    }\n",
              "\n",
              "    [theme=dark] .colab-df-convert {\n",
              "      background-color: #3B4455;\n",
              "      fill: #D2E3FC;\n",
              "    }\n",
              "\n",
              "    [theme=dark] .colab-df-convert:hover {\n",
              "      background-color: #434B5C;\n",
              "      box-shadow: 0px 1px 3px 1px rgba(0, 0, 0, 0.15);\n",
              "      filter: drop-shadow(0px 1px 2px rgba(0, 0, 0, 0.3));\n",
              "      fill: #FFFFFF;\n",
              "    }\n",
              "  </style>\n",
              "\n",
              "      <script>\n",
              "        const buttonEl =\n",
              "          document.querySelector('#df-14b222e9-baf9-4eb0-bdca-002128f35a31 button.colab-df-convert');\n",
              "        buttonEl.style.display =\n",
              "          google.colab.kernel.accessAllowed ? 'block' : 'none';\n",
              "\n",
              "        async function convertToInteractive(key) {\n",
              "          const element = document.querySelector('#df-14b222e9-baf9-4eb0-bdca-002128f35a31');\n",
              "          const dataTable =\n",
              "            await google.colab.kernel.invokeFunction('convertToInteractive',\n",
              "                                                     [key], {});\n",
              "          if (!dataTable) return;\n",
              "\n",
              "          const docLinkHtml = 'Like what you see? Visit the ' +\n",
              "            '<a target=\"_blank\" href=https://colab.research.google.com/notebooks/data_table.ipynb>data table notebook</a>'\n",
              "            + ' to learn more about interactive tables.';\n",
              "          element.innerHTML = '';\n",
              "          dataTable['output_type'] = 'display_data';\n",
              "          await google.colab.output.renderOutput(dataTable, element);\n",
              "          const docLink = document.createElement('div');\n",
              "          docLink.innerHTML = docLinkHtml;\n",
              "          element.appendChild(docLink);\n",
              "        }\n",
              "      </script>\n",
              "    </div>\n",
              "  </div>\n",
              "  "
            ]
          },
          "metadata": {},
          "execution_count": 18
        }
      ]
    },
    {
      "cell_type": "markdown",
      "source": [
        "# ***Passo 4 - Calcular fechamento do dia, do mês e ano***"
      ],
      "metadata": {
        "id": "CA96xlkyivRQ"
      }
    },
    {
      "cell_type": "code",
      "source": [
        "retorno_no_ano = dados_fechamento_anual.pct_change().dropna()\n",
        "\n",
        "retorno_no_mes = dados_fechamento_mensal.pct_change().dropna()\n",
        "\n",
        "retorno_no_dia = dados_fechamento.pct_change().dropna()\n",
        "\n",
        "retorno_no_dia\n",
        "\n",
        "retorno_no_ano\n",
        "\n",
        "retorno_no_mes"
      ],
      "metadata": {
        "colab": {
          "base_uri": "https://localhost:8080/",
          "height": 457
        },
        "id": "S607Oc9hiuWs",
        "outputId": "1e8bd5ee-e0c4-4290-b930-d4b04aa6c27d"
      },
      "execution_count": 21,
      "outputs": [
        {
          "output_type": "execute_result",
          "data": {
            "text/plain": [
              "               dolar  ibovespa\n",
              "Date                          \n",
              "2022-05-31 -0.037547  0.032213\n",
              "2022-06-30  0.090165 -0.115033\n",
              "2022-07-31  0.000347  0.046914\n",
              "2022-08-31 -0.011731  0.061629\n",
              "2022-09-30  0.053554  0.004693\n",
              "2022-10-31 -0.019959  0.054527\n",
              "2022-11-30 -0.003839 -0.030602\n",
              "2022-12-31 -0.000266 -0.021825\n",
              "2023-01-31 -0.028841  0.031818\n",
              "2023-02-28  0.016579 -0.075750\n",
              "2023-03-31 -0.020578 -0.029066\n",
              "2023-04-30 -0.005969 -0.003689"
            ],
            "text/html": [
              "\n",
              "  <div id=\"df-3698b463-7c6e-4776-9628-48d5594e5edc\">\n",
              "    <div class=\"colab-df-container\">\n",
              "      <div>\n",
              "<style scoped>\n",
              "    .dataframe tbody tr th:only-of-type {\n",
              "        vertical-align: middle;\n",
              "    }\n",
              "\n",
              "    .dataframe tbody tr th {\n",
              "        vertical-align: top;\n",
              "    }\n",
              "\n",
              "    .dataframe thead th {\n",
              "        text-align: right;\n",
              "    }\n",
              "</style>\n",
              "<table border=\"1\" class=\"dataframe\">\n",
              "  <thead>\n",
              "    <tr style=\"text-align: right;\">\n",
              "      <th></th>\n",
              "      <th>dolar</th>\n",
              "      <th>ibovespa</th>\n",
              "    </tr>\n",
              "    <tr>\n",
              "      <th>Date</th>\n",
              "      <th></th>\n",
              "      <th></th>\n",
              "    </tr>\n",
              "  </thead>\n",
              "  <tbody>\n",
              "    <tr>\n",
              "      <th>2022-05-31</th>\n",
              "      <td>-0.037547</td>\n",
              "      <td>0.032213</td>\n",
              "    </tr>\n",
              "    <tr>\n",
              "      <th>2022-06-30</th>\n",
              "      <td>0.090165</td>\n",
              "      <td>-0.115033</td>\n",
              "    </tr>\n",
              "    <tr>\n",
              "      <th>2022-07-31</th>\n",
              "      <td>0.000347</td>\n",
              "      <td>0.046914</td>\n",
              "    </tr>\n",
              "    <tr>\n",
              "      <th>2022-08-31</th>\n",
              "      <td>-0.011731</td>\n",
              "      <td>0.061629</td>\n",
              "    </tr>\n",
              "    <tr>\n",
              "      <th>2022-09-30</th>\n",
              "      <td>0.053554</td>\n",
              "      <td>0.004693</td>\n",
              "    </tr>\n",
              "    <tr>\n",
              "      <th>2022-10-31</th>\n",
              "      <td>-0.019959</td>\n",
              "      <td>0.054527</td>\n",
              "    </tr>\n",
              "    <tr>\n",
              "      <th>2022-11-30</th>\n",
              "      <td>-0.003839</td>\n",
              "      <td>-0.030602</td>\n",
              "    </tr>\n",
              "    <tr>\n",
              "      <th>2022-12-31</th>\n",
              "      <td>-0.000266</td>\n",
              "      <td>-0.021825</td>\n",
              "    </tr>\n",
              "    <tr>\n",
              "      <th>2023-01-31</th>\n",
              "      <td>-0.028841</td>\n",
              "      <td>0.031818</td>\n",
              "    </tr>\n",
              "    <tr>\n",
              "      <th>2023-02-28</th>\n",
              "      <td>0.016579</td>\n",
              "      <td>-0.075750</td>\n",
              "    </tr>\n",
              "    <tr>\n",
              "      <th>2023-03-31</th>\n",
              "      <td>-0.020578</td>\n",
              "      <td>-0.029066</td>\n",
              "    </tr>\n",
              "    <tr>\n",
              "      <th>2023-04-30</th>\n",
              "      <td>-0.005969</td>\n",
              "      <td>-0.003689</td>\n",
              "    </tr>\n",
              "  </tbody>\n",
              "</table>\n",
              "</div>\n",
              "      <button class=\"colab-df-convert\" onclick=\"convertToInteractive('df-3698b463-7c6e-4776-9628-48d5594e5edc')\"\n",
              "              title=\"Convert this dataframe to an interactive table.\"\n",
              "              style=\"display:none;\">\n",
              "        \n",
              "  <svg xmlns=\"http://www.w3.org/2000/svg\" height=\"24px\"viewBox=\"0 0 24 24\"\n",
              "       width=\"24px\">\n",
              "    <path d=\"M0 0h24v24H0V0z\" fill=\"none\"/>\n",
              "    <path d=\"M18.56 5.44l.94 2.06.94-2.06 2.06-.94-2.06-.94-.94-2.06-.94 2.06-2.06.94zm-11 1L8.5 8.5l.94-2.06 2.06-.94-2.06-.94L8.5 2.5l-.94 2.06-2.06.94zm10 10l.94 2.06.94-2.06 2.06-.94-2.06-.94-.94-2.06-.94 2.06-2.06.94z\"/><path d=\"M17.41 7.96l-1.37-1.37c-.4-.4-.92-.59-1.43-.59-.52 0-1.04.2-1.43.59L10.3 9.45l-7.72 7.72c-.78.78-.78 2.05 0 2.83L4 21.41c.39.39.9.59 1.41.59.51 0 1.02-.2 1.41-.59l7.78-7.78 2.81-2.81c.8-.78.8-2.07 0-2.86zM5.41 20L4 18.59l7.72-7.72 1.47 1.35L5.41 20z\"/>\n",
              "  </svg>\n",
              "      </button>\n",
              "      \n",
              "  <style>\n",
              "    .colab-df-container {\n",
              "      display:flex;\n",
              "      flex-wrap:wrap;\n",
              "      gap: 12px;\n",
              "    }\n",
              "\n",
              "    .colab-df-convert {\n",
              "      background-color: #E8F0FE;\n",
              "      border: none;\n",
              "      border-radius: 50%;\n",
              "      cursor: pointer;\n",
              "      display: none;\n",
              "      fill: #1967D2;\n",
              "      height: 32px;\n",
              "      padding: 0 0 0 0;\n",
              "      width: 32px;\n",
              "    }\n",
              "\n",
              "    .colab-df-convert:hover {\n",
              "      background-color: #E2EBFA;\n",
              "      box-shadow: 0px 1px 2px rgba(60, 64, 67, 0.3), 0px 1px 3px 1px rgba(60, 64, 67, 0.15);\n",
              "      fill: #174EA6;\n",
              "    }\n",
              "\n",
              "    [theme=dark] .colab-df-convert {\n",
              "      background-color: #3B4455;\n",
              "      fill: #D2E3FC;\n",
              "    }\n",
              "\n",
              "    [theme=dark] .colab-df-convert:hover {\n",
              "      background-color: #434B5C;\n",
              "      box-shadow: 0px 1px 3px 1px rgba(0, 0, 0, 0.15);\n",
              "      filter: drop-shadow(0px 1px 2px rgba(0, 0, 0, 0.3));\n",
              "      fill: #FFFFFF;\n",
              "    }\n",
              "  </style>\n",
              "\n",
              "      <script>\n",
              "        const buttonEl =\n",
              "          document.querySelector('#df-3698b463-7c6e-4776-9628-48d5594e5edc button.colab-df-convert');\n",
              "        buttonEl.style.display =\n",
              "          google.colab.kernel.accessAllowed ? 'block' : 'none';\n",
              "\n",
              "        async function convertToInteractive(key) {\n",
              "          const element = document.querySelector('#df-3698b463-7c6e-4776-9628-48d5594e5edc');\n",
              "          const dataTable =\n",
              "            await google.colab.kernel.invokeFunction('convertToInteractive',\n",
              "                                                     [key], {});\n",
              "          if (!dataTable) return;\n",
              "\n",
              "          const docLinkHtml = 'Like what you see? Visit the ' +\n",
              "            '<a target=\"_blank\" href=https://colab.research.google.com/notebooks/data_table.ipynb>data table notebook</a>'\n",
              "            + ' to learn more about interactive tables.';\n",
              "          element.innerHTML = '';\n",
              "          dataTable['output_type'] = 'display_data';\n",
              "          await google.colab.output.renderOutput(dataTable, element);\n",
              "          const docLink = document.createElement('div');\n",
              "          docLink.innerHTML = docLinkHtml;\n",
              "          element.appendChild(docLink);\n",
              "        }\n",
              "      </script>\n",
              "    </div>\n",
              "  </div>\n",
              "  "
            ]
          },
          "metadata": {},
          "execution_count": 21
        }
      ]
    },
    {
      "cell_type": "markdown",
      "source": [
        "# ***Passo 5 - Localizar o fechamento do dia anterior, retorno no mês e retorno no ano.***\n",
        "\n",
        "\n",
        "Loc -> Referenciar elementos a partir do nome\n",
        "\n",
        "Iloc -> Selecionar elementos como uma matriz"
      ],
      "metadata": {
        "id": "1sKe9e_uko6M"
      }
    },
    {
      "cell_type": "code",
      "source": [
        "retorno_no_dia.loc['2023-03-09', 'dolar']\n",
        "\n",
        "retorno_no_dia.loc['2023-03-09']"
      ],
      "metadata": {
        "colab": {
          "base_uri": "https://localhost:8080/"
        },
        "id": "bl_YTj90kn6E",
        "outputId": "3f53503f-d3fe-45d6-a3a5-78cb34e78169"
      },
      "execution_count": 63,
      "outputs": [
        {
          "output_type": "execute_result",
          "data": {
            "text/plain": [
              "dolar      -0.008786\n",
              "ibovespa   -0.013788\n",
              "Name: 2023-03-09 00:00:00, dtype: float64"
            ]
          },
          "metadata": {},
          "execution_count": 63
        }
      ]
    },
    {
      "cell_type": "code",
      "source": [
        "retorno_no_dia.iloc[0, 0] #Devolve primeira linha e primeira coluna"
      ],
      "metadata": {
        "colab": {
          "base_uri": "https://localhost:8080/"
        },
        "id": "VRetHk9Rnajf",
        "outputId": "a30957c7-602d-4ee9-ac7a-c26f3ad0746e"
      },
      "execution_count": 64,
      "outputs": [
        {
          "output_type": "execute_result",
          "data": {
            "text/plain": [
              "-0.013613285585453494"
            ]
          },
          "metadata": {},
          "execution_count": 64
        }
      ]
    },
    {
      "cell_type": "code",
      "source": [
        "retorno_dia_dolar = retorno_no_dia.iloc[-1, 0]\n",
        "retorno_dia_ibovespa = retorno_no_dia.iloc[-1, 1]\n",
        "\n",
        "retorno_mes_dolar = retorno_no_mes.iloc[-1, 0]\n",
        "retorno_mes_ibovespa = retorno_no_mes.iloc[-1, 1]\n",
        "\n",
        "retorno_ano_dolar = retorno_no_ano.iloc[-1, 0]\n",
        "retorno_ano_ibovespa = retorno_no_ano.iloc[-1, 1]\n",
        "\n",
        "retorno_ano_dolar"
      ],
      "metadata": {
        "colab": {
          "base_uri": "https://localhost:8080/"
        },
        "id": "pu7XCN78npgX",
        "outputId": "1331261f-b2d6-4f56-c797-3ade579bc03f"
      },
      "execution_count": 69,
      "outputs": [
        {
          "output_type": "execute_result",
          "data": {
            "text/plain": [
              "-0.038828078600089855"
            ]
          },
          "metadata": {},
          "execution_count": 69
        }
      ]
    },
    {
      "cell_type": "code",
      "source": [
        "#Realização do tratamento dos dados\n",
        "\n",
        "retorno_dia_dolar = round(retorno_dia_dolar * 100, 2)\n",
        "retorno_dia_ibovespa = round(retorno_dia_ibovespa / 100, 2)\n",
        "\n",
        "retorno_mes_dolar = round(retorno_mes_dolar * 100, 2)\n",
        "retorno_mes_ibovespa = round(retorno_mes_ibovespa * 100, 2)\n",
        "\n",
        "retorno_ano_dolar = round(retorno_ano_dolar * 100, 2)\n",
        "retorno_ano_ibovespa = round(retorno_ano_ibovespa * 100, 2)\n",
        "\n",
        "retorno_ano_ibovespa"
      ],
      "metadata": {
        "colab": {
          "base_uri": "https://localhost:8080/"
        },
        "id": "TJrBWyoNoGk5",
        "outputId": "4e7bcce0-3fc1-4000-b5d0-9507be2fc53d"
      },
      "execution_count": 70,
      "outputs": [
        {
          "output_type": "execute_result",
          "data": {
            "text/plain": [
              "-7.75"
            ]
          },
          "metadata": {},
          "execution_count": 70
        }
      ]
    },
    {
      "cell_type": "markdown",
      "source": [
        "Passo 6"
      ],
      "metadata": {
        "id": "6W241QGQ0V9l"
      }
    },
    {
      "cell_type": "code",
      "source": [
        "plt.style.use('cyberpunk')\n",
        "\n",
        "dados_fechamento.plot(y = 'ibovespa', use_index = True, legend = False)\n",
        "\n",
        "plt.title('Ibovespa') #Título do gráfico\n",
        "\n",
        "plt.savefig('ibovespa.png', dpi = 300) #Salvando o gráfico\n",
        "\n",
        "plt.show()"
      ],
      "metadata": {
        "colab": {
          "base_uri": "https://localhost:8080/",
          "height": 446
        },
        "id": "PnwGOkv4pv4z",
        "outputId": "b6d7e2c7-2c1a-4a8c-9b97-fcb08dab6443"
      },
      "execution_count": 33,
      "outputs": [
        {
          "output_type": "display_data",
          "data": {
            "text/plain": [
              "<Figure size 640x480 with 1 Axes>"
            ],
            "image/png": "[encoded data removed]"
          },
          "metadata": {}
        }
      ]
    },
    {
      "cell_type": "code",
      "source": [
        "plt.style.use('cyberpunk')\n",
        "\n",
        "dados_fechamento.plot(y = 'dolar', use_index = True, legend = False)\n",
        "\n",
        "plt.title('dolar')\n",
        "\n",
        "plt.savefig('dolar.png', dpi = 300)\n",
        "\n",
        "plt.show()"
      ],
      "metadata": {
        "colab": {
          "base_uri": "https://localhost:8080/",
          "height": 446
        },
        "id": "Ks8B4UKAqbH0",
        "outputId": "b1ac1a75-996e-4645-8fc1-2825420a9c21"
      },
      "execution_count": 34,
      "outputs": [
        {
          "output_type": "display_data",
          "data": {
            "text/plain": [
              "<Figure size 640x480 with 1 Axes>"
            ],
            "image/png": "[encoded data removed]"
          },
          "metadata": {}
        }
      ]
    },
    {
      "cell_type": "markdown",
      "source": [
        "# ***Passo 7 - Enviando o E-mail***\n",
        "\n",
        "Utilizar isso: https://myaccount.google.com/apppasswords"
      ],
      "metadata": {
        "id": "6HkNqIeNqusc"
      }
    },
    {
      "cell_type": "code",
      "source": [
        "import os #importar essa biblioteca para conseguir logar\n",
        "from dotenv import load_dotenv"
      ],
      "metadata": {
        "id": "smUoUmEZqv7K"
      },
      "execution_count": 36,
      "outputs": []
    },
    {
      "cell_type": "code",
      "source": [
        "load_dotenv() # Aqui posiciona se a senha foi salva"
      ],
      "metadata": {
        "colab": {
          "base_uri": "https://localhost:8080/"
        },
        "id": "ApqGNqhdukAh",
        "outputId": "ad21aa59-fe44-4f3e-861f-3c702f924ecd"
      },
      "execution_count": 92,
      "outputs": [
        {
          "output_type": "execute_result",
          "data": {
            "text/plain": [
              "True"
            ]
          },
          "metadata": {},
          "execution_count": 92
        }
      ]
    },
    {
      "cell_type": "code",
      "source": [
        "senha = os.environ.get('senha_email')\n",
        "email = 'seu@email.com.br'\n",
        "\n"
      ],
      "metadata": {
        "id": "rvc0GoP0usGg"
      },
      "execution_count": 39,
      "outputs": []
    },
    {
      "cell_type": "code",
      "source": [
        "msg = EmailMessage()\n",
        "\n",
        "msg['subject'] = 'Enviando e-mail com o python'\n",
        "msg['from'] = 'seu@email.com.br'\n",
        "msg['to'] = 'email@dapessoa.com.br'\n",
        "\n",
        "msg.set_content(f'''Prezado Cliente, segue o relatório diário do mercado:\n",
        "\n",
        "Bolsa:\n",
        "\n",
        "No ano o Ibovespa está tendo uma rentabilidade de {retorno_ano_ibovespa}%, \n",
        "enquanto no mês a rentabilidade é de {retorno_mes_ibovespa}%.\n",
        "\n",
        "No último dia útil, o fechamento do Ibovespa foi de {retorno_dia_ibovespa}%.\n",
        "\n",
        "Dólar:\n",
        "\n",
        "No ano o Dólar está tendo uma rentabilidade de {retorno_ano_dolar}%, \n",
        "enquanto no mês a rentabilidade é de {retorno_mes_dolar}%.\n",
        "\n",
        "No último dia útil, o fechamento do Dólar foi de {retorno_dia_dolar}%.\n",
        "\n",
        "\n",
        "Abs,\n",
        "\n",
        "Fernando\n",
        "\n",
        "''')"
      ],
      "metadata": {
        "id": "AsY1RRp3yMwi"
      },
      "execution_count": 88,
      "outputs": []
    },
    {
      "cell_type": "code",
      "source": [
        "with open('dolar.png', 'rb') as content_file:\n",
        "    content = content_file.read()\n",
        "    msg.add_attachment(content, maintype='application', subtype='png', filename='dolar.png')\n",
        "    \n",
        "    "
      ],
      "metadata": {
        "id": "utdvRdHk0l3f"
      },
      "execution_count": 89,
      "outputs": []
    },
    {
      "cell_type": "code",
      "source": [
        "with open('ibovespa.png', 'rb') as content_file:\n",
        "    content = content_file.read()\n",
        "    msg.add_attachment(content, maintype='application', subtype='png', filename='ibovespa.png')"
      ],
      "metadata": {
        "id": "909wDoNW0t1k"
      },
      "execution_count": 90,
      "outputs": []
    },
    {
      "cell_type": "code",
      "source": [
        "with smtplib.SMTP_SSL('smtp.gmail.com', 465) as smtp:\n",
        "    \n",
        "    smtp.login(email, senha)\n",
        "    smtp.send_message(msg)"
      ],
      "metadata": {
        "id": "sR8dST_c1SQp"
      },
      "execution_count": 91,
      "outputs": []
    }
  ]
}